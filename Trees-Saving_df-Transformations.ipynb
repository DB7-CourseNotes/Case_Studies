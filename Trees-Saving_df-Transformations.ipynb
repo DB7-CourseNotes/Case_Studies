{
 "cells": [
  {
   "cell_type": "markdown",
   "metadata": {},
   "source": [
    "# Saving Degrees of Freedom with Transformations\n",
    "\n",
    "Here's an example of using transformations to (1) match the context of the problem and (2) get better results with fewer degrees of freedom.\n",
    "\n",
    "We'll use the `trees` dataset that's built into R. The \"Girth\" column is actually the diameter, and it's the only column measured in inches rather than feet. I'm going to make a new predictor based on Girth that's more useful for later models."
   ]
  },
  {
   "cell_type": "code",
   "execution_count": 1,
   "metadata": {
    "vscode": {
     "languageId": "r"
    }
   },
   "outputs": [
    {
     "data": {
      "text/html": [
       "<table class=\"dataframe\">\n",
       "<caption>A data.frame: 6 × 4</caption>\n",
       "<thead>\n",
       "\t<tr><th></th><th scope=col>Girth</th><th scope=col>Height</th><th scope=col>Volume</th><th scope=col>Radius</th></tr>\n",
       "\t<tr><th></th><th scope=col>&lt;dbl&gt;</th><th scope=col>&lt;dbl&gt;</th><th scope=col>&lt;dbl&gt;</th><th scope=col>&lt;dbl&gt;</th></tr>\n",
       "</thead>\n",
       "<tbody>\n",
       "\t<tr><th scope=row>1</th><td> 8.3</td><td>70</td><td>10.3</td><td>0.3458333</td></tr>\n",
       "\t<tr><th scope=row>2</th><td> 8.6</td><td>65</td><td>10.3</td><td>0.3583333</td></tr>\n",
       "\t<tr><th scope=row>3</th><td> 8.8</td><td>63</td><td>10.2</td><td>0.3666667</td></tr>\n",
       "\t<tr><th scope=row>4</th><td>10.5</td><td>72</td><td>16.4</td><td>0.4375000</td></tr>\n",
       "\t<tr><th scope=row>5</th><td>10.7</td><td>81</td><td>18.8</td><td>0.4458333</td></tr>\n",
       "\t<tr><th scope=row>6</th><td>10.8</td><td>83</td><td>19.7</td><td>0.4500000</td></tr>\n",
       "</tbody>\n",
       "</table>\n"
      ],
      "text/latex": [
       "A data.frame: 6 × 4\n",
       "\\begin{tabular}{r|llll}\n",
       "  & Girth & Height & Volume & Radius\\\\\n",
       "  & <dbl> & <dbl> & <dbl> & <dbl>\\\\\n",
       "\\hline\n",
       "\t1 &  8.3 & 70 & 10.3 & 0.3458333\\\\\n",
       "\t2 &  8.6 & 65 & 10.3 & 0.3583333\\\\\n",
       "\t3 &  8.8 & 63 & 10.2 & 0.3666667\\\\\n",
       "\t4 & 10.5 & 72 & 16.4 & 0.4375000\\\\\n",
       "\t5 & 10.7 & 81 & 18.8 & 0.4458333\\\\\n",
       "\t6 & 10.8 & 83 & 19.7 & 0.4500000\\\\\n",
       "\\end{tabular}\n"
      ],
      "text/markdown": [
       "\n",
       "A data.frame: 6 × 4\n",
       "\n",
       "| <!--/--> | Girth &lt;dbl&gt; | Height &lt;dbl&gt; | Volume &lt;dbl&gt; | Radius &lt;dbl&gt; |\n",
       "|---|---|---|---|---|\n",
       "| 1 |  8.3 | 70 | 10.3 | 0.3458333 |\n",
       "| 2 |  8.6 | 65 | 10.3 | 0.3583333 |\n",
       "| 3 |  8.8 | 63 | 10.2 | 0.3666667 |\n",
       "| 4 | 10.5 | 72 | 16.4 | 0.4375000 |\n",
       "| 5 | 10.7 | 81 | 18.8 | 0.4458333 |\n",
       "| 6 | 10.8 | 83 | 19.7 | 0.4500000 |\n",
       "\n"
      ],
      "text/plain": [
       "  Girth Height Volume Radius   \n",
       "1  8.3  70     10.3   0.3458333\n",
       "2  8.6  65     10.3   0.3583333\n",
       "3  8.8  63     10.2   0.3666667\n",
       "4 10.5  72     16.4   0.4375000\n",
       "5 10.7  81     18.8   0.4458333\n",
       "6 10.8  83     19.7   0.4500000"
      ]
     },
     "metadata": {},
     "output_type": "display_data"
    }
   ],
   "source": [
    "trees$Radius <- trees$Girth/24\n",
    "head(trees) # \"Girth\" is actually diameter, according to help file"
   ]
  },
  {
   "cell_type": "markdown",
   "metadata": {},
   "source": [
    "A naive model might be a basic multiple linear regression."
   ]
  },
  {
   "cell_type": "code",
   "execution_count": 2,
   "metadata": {
    "vscode": {
     "languageId": "r"
    }
   },
   "outputs": [
    {
     "data": {
      "text/plain": [
       "\n",
       "Call:\n",
       "lm(formula = Volume ~ Radius + Height, data = trees)\n",
       "\n",
       "Residuals:\n",
       "    Min      1Q  Median      3Q     Max \n",
       "-6.4065 -2.6493 -0.2876  2.2003  8.4847 \n",
       "\n",
       "Coefficients:\n",
       "            Estimate Std. Error t value Pr(>|t|)    \n",
       "(Intercept) -57.9877     8.6382  -6.713 2.75e-07 ***\n",
       "Radius      112.9959     6.3424  17.816  < 2e-16 ***\n",
       "Height        0.3393     0.1302   2.607   0.0145 *  \n",
       "---\n",
       "Signif. codes:  0 '***' 0.001 '**' 0.01 '*' 0.05 '.' 0.1 ' ' 1\n",
       "\n",
       "Residual standard error: 3.882 on 28 degrees of freedom\n",
       "Multiple R-squared:  0.948,\tAdjusted R-squared:  0.9442 \n",
       "F-statistic:   255 on 2 and 28 DF,  p-value: < 2.2e-16\n"
      ]
     },
     "metadata": {},
     "output_type": "display_data"
    }
   ],
   "source": [
    "multiple_lm <- lm(Volume ~ Radius + Height, data = trees)\n",
    "summary(multiple_lm)"
   ]
  },
  {
   "cell_type": "markdown",
   "metadata": {},
   "source": [
    "We could make this fit better by blindly adding polynomial terms and doing a transformation:"
   ]
  },
  {
   "cell_type": "code",
   "execution_count": 3,
   "metadata": {
    "vscode": {
     "languageId": "r"
    }
   },
   "outputs": [
    {
     "data": {
      "text/plain": [
       "\n",
       "Call:\n",
       "lm(formula = log(Volume) ~ poly(Girth, 2) + poly(Height, 2), \n",
       "    data = trees)\n",
       "\n",
       "Residuals:\n",
       "     Min       1Q   Median       3Q      Max \n",
       "-0.16094 -0.04023 -0.00295  0.05474  0.13434 \n",
       "\n",
       "Coefficients:\n",
       "                 Estimate Std. Error t value Pr(>|t|)    \n",
       "(Intercept)       3.27273    0.01492 219.360  < 2e-16 ***\n",
       "poly(Girth, 2)1   2.51150    0.09732  25.808  < 2e-16 ***\n",
       "poly(Girth, 2)2  -0.26046    0.09206  -2.829  0.00887 ** \n",
       "poly(Height, 2)1  0.54845    0.09746   5.628 6.47e-06 ***\n",
       "poly(Height, 2)2 -0.05518    0.09191  -0.600  0.55349    \n",
       "---\n",
       "Signif. codes:  0 '***' 0.001 '**' 0.01 '*' 0.05 '.' 0.1 ' ' 1\n",
       "\n",
       "Residual standard error: 0.08307 on 26 degrees of freedom\n",
       "Multiple R-squared:  0.9784,\tAdjusted R-squared:  0.9751 \n",
       "F-statistic: 294.5 on 4 and 26 DF,  p-value: < 2.2e-16\n"
      ]
     },
     "metadata": {},
     "output_type": "display_data"
    }
   ],
   "source": [
    "transformed_and_poly <- lm(log(Volume) ~ poly(Girth, 2) + poly(Height, 2), data = trees)\n",
    "summary(transformed_and_poly)"
   ]
  },
  {
   "cell_type": "markdown",
   "metadata": {},
   "source": [
    "- It is interesting that the squared term for height is *not* significant. Why is this so interesting to me? Look at the next equation in this lesson...\n",
    "\n",
    "A slightly better model might be one of the form:\n",
    "$$\n",
    "V = \\pi r^2h\n",
    "$$\n",
    "which assumes that trees are perfect cylinders. This can be accomplished by modelling:\n",
    "\\begin{align*}\n",
    "\\log(V) &= \\beta_0 + \\beta_1\\log(r) + \\beta_2\\log(h) + \\epsilon\\\\\n",
    "\\implies V &= \\exp(\\beta_0)r^\\beta_1h^\\beta_2\\exp(\\epsilon)\n",
    "\\end{align*}\n",
    "and expecting that $\\exp(\\beta_0)$ is close to $\\pi$, $\\beta_1 = 2$, and $\\beta_2 = 1$. (It makes me very happy that we're taking the \"log\" when talking about lumber.)\n",
    "\n",
    "In this formulation, note that the errors are *multiplicative*. We're assuming a baseline model, and then the observed values are 1 times that baseline if there's no error, and some other multiple of the baseline model if there is error. This isn't a problem *per se*, but it changes how we might interpret prediction error!"
   ]
  },
  {
   "cell_type": "code",
   "execution_count": 4,
   "metadata": {
    "vscode": {
     "languageId": "r"
    }
   },
   "outputs": [
    {
     "data": {
      "text/plain": [
       "\n",
       "Call:\n",
       "lm(formula = log(Volume) ~ log(Girth) + log(Height), data = trees)\n",
       "\n",
       "Residuals:\n",
       "      Min        1Q    Median        3Q       Max \n",
       "-0.168561 -0.048488  0.002431  0.063637  0.129223 \n",
       "\n",
       "Coefficients:\n",
       "            Estimate Std. Error t value Pr(>|t|)    \n",
       "(Intercept) -6.63162    0.79979  -8.292 5.06e-09 ***\n",
       "log(Girth)   1.98265    0.07501  26.432  < 2e-16 ***\n",
       "log(Height)  1.11712    0.20444   5.464 7.81e-06 ***\n",
       "---\n",
       "Signif. codes:  0 '***' 0.001 '**' 0.01 '*' 0.05 '.' 0.1 ' ' 1\n",
       "\n",
       "Residual standard error: 0.08139 on 28 degrees of freedom\n",
       "Multiple R-squared:  0.9777,\tAdjusted R-squared:  0.9761 \n",
       "F-statistic: 613.2 on 2 and 28 DF,  p-value: < 2.2e-16\n"
      ]
     },
     "metadata": {},
     "output_type": "display_data"
    }
   ],
   "source": [
    "volume_logs <- lm(log(Volume) ~ log(Girth) + log(Height), data = trees)\n",
    "summary(volume_logs)"
   ]
  },
  {
   "cell_type": "markdown",
   "metadata": {},
   "source": [
    "- We get something close to our hopes!\n",
    "    - Except for $\\beta_0$, which we'll talk about later.\n",
    "- With this model, we could do a hypothesis test for $\\beta_1 = 2$ and $\\beta_2 = 1$. \n",
    "    - If these are reasonable values, loggers could confidently calculate the volume of a tree assuming that it's a cylinder!\n",
    "\n",
    "We could also assume these values from the start, and include a \"naive\" volume."
   ]
  },
  {
   "cell_type": "code",
   "execution_count": 5,
   "metadata": {
    "vscode": {
     "languageId": "r"
    }
   },
   "outputs": [],
   "source": [
    "trees$naive_volume <- pi * trees$Radius^2 * trees$Height"
   ]
  },
  {
   "cell_type": "markdown",
   "metadata": {},
   "source": [
    "We could then model this according to\n",
    "\\begin{align*}\n",
    "V & = \\beta_0N + \\epsilon\n",
    "\\end{align*}\n",
    "where $N$ is our \"naive\" volumne. We might have the expectation that $\\beta_0 = 1$ if the naive volume is correct and we are getting 100% of the tree as usable lumber."
   ]
  },
  {
   "cell_type": "code",
   "execution_count": 6,
   "metadata": {
    "vscode": {
     "languageId": "r"
    }
   },
   "outputs": [
    {
     "data": {
      "text/plain": [
       "\n",
       "Call:\n",
       "lm(formula = Volume ~ -1 + naive_volume, data = trees)\n",
       "\n",
       "Residuals:\n",
       "    Min      1Q  Median      3Q     Max \n",
       "-4.6696 -1.0832 -0.3341  1.6045  4.2944 \n",
       "\n",
       "Coefficients:\n",
       "             Estimate Std. Error t value Pr(>|t|)    \n",
       "naive_volume 0.386513   0.004991   77.44   <2e-16 ***\n",
       "---\n",
       "Signif. codes:  0 '***' 0.001 '**' 0.01 '*' 0.05 '.' 0.1 ' ' 1\n",
       "\n",
       "Residual standard error: 2.455 on 30 degrees of freedom\n",
       "Multiple R-squared:  0.995,\tAdjusted R-squared:  0.9949 \n",
       "F-statistic:  5996 on 1 and 30 DF,  p-value: < 2.2e-16\n"
      ]
     },
     "metadata": {},
     "output_type": "display_data"
    }
   ],
   "source": [
    "# Assuming trees are cylinders\n",
    "diff_from_cylinder <- lm(Volume ~ -1 + naive_volume, data = trees)\n",
    "summary(diff_from_cylinder)"
   ]
  },
  {
   "cell_type": "markdown",
   "metadata": {},
   "source": [
    "This tells us that the estimated usable lumber from a given tree is about 40\\% of what we would expect if the tree were a perfect cylinder.\n",
    "\n",
    "Importantly for this lesson, we have an $R^2$ of 0.9949 on a single degree of freedom! $R^2$ is not the greatest measure, but it's informative in this case:"
   ]
  },
  {
   "cell_type": "code",
   "execution_count": 7,
   "metadata": {
    "vscode": {
     "languageId": "r"
    }
   },
   "outputs": [
    {
     "data": {
      "text/html": [
       "<table class=\"dataframe\">\n",
       "<caption>A data.frame: 4 × 3</caption>\n",
       "<thead>\n",
       "\t<tr><th scope=col>model</th><th scope=col>R2</th><th scope=col>df</th></tr>\n",
       "\t<tr><th scope=col>&lt;chr&gt;</th><th scope=col>&lt;dbl&gt;</th><th scope=col>&lt;dbl&gt;</th></tr>\n",
       "</thead>\n",
       "<tbody>\n",
       "\t<tr><td>multiple_lm         </td><td>0.9442322</td><td>2</td></tr>\n",
       "\t<tr><td>transformed_and_poly</td><td>0.9750853</td><td>4</td></tr>\n",
       "\t<tr><td>volume_logs         </td><td>0.9760840</td><td>2</td></tr>\n",
       "\t<tr><td>diff_from_cylinder  </td><td>0.9948560</td><td>1</td></tr>\n",
       "</tbody>\n",
       "</table>\n"
      ],
      "text/latex": [
       "A data.frame: 4 × 3\n",
       "\\begin{tabular}{lll}\n",
       " model & R2 & df\\\\\n",
       " <chr> & <dbl> & <dbl>\\\\\n",
       "\\hline\n",
       "\t multiple\\_lm          & 0.9442322 & 2\\\\\n",
       "\t transformed\\_and\\_poly & 0.9750853 & 4\\\\\n",
       "\t volume\\_logs          & 0.9760840 & 2\\\\\n",
       "\t diff\\_from\\_cylinder   & 0.9948560 & 1\\\\\n",
       "\\end{tabular}\n"
      ],
      "text/markdown": [
       "\n",
       "A data.frame: 4 × 3\n",
       "\n",
       "| model &lt;chr&gt; | R2 &lt;dbl&gt; | df &lt;dbl&gt; |\n",
       "|---|---|---|\n",
       "| multiple_lm          | 0.9442322 | 2 |\n",
       "| transformed_and_poly | 0.9750853 | 4 |\n",
       "| volume_logs          | 0.9760840 | 2 |\n",
       "| diff_from_cylinder   | 0.9948560 | 1 |\n",
       "\n"
      ],
      "text/plain": [
       "  model                R2        df\n",
       "1 multiple_lm          0.9442322 2 \n",
       "2 transformed_and_poly 0.9750853 4 \n",
       "3 volume_logs          0.9760840 2 \n",
       "4 diff_from_cylinder   0.9948560 1 "
      ]
     },
     "metadata": {},
     "output_type": "display_data"
    }
   ],
   "source": [
    "data.frame(\n",
    "    model = c(\"multiple_lm\", \"transformed_and_poly\", \"volume_logs\", \"diff_from_cylinder\"),\n",
    "    R2 = c(summary(multiple_lm)$adj.r.squared, summary(transformed_and_poly)$adj.r.squared, summary(volume_logs)$adj.r.squared, summary(diff_from_cylinder)$adj.r.squared),\n",
    "    df = c(multiple_lm$rank - 1, transformed_and_poly$rank - 1, volume_logs$rank - 1, diff_from_cylinder$rank)\n",
    ")"
   ]
  },
  {
   "cell_type": "markdown",
   "metadata": {},
   "source": [
    "By choosing our transformations carefully, we have a model that is both *better* and *simpler*! The coefficient estimate also relates to a physical quantity that is useful to us - the percent of usable wood we can get from a tree! Statistics is amazing! (I want the following on a t-shirt: \"If you don't think stats is lit af then you ain't woke, fam!\")"
   ]
  }
 ],
 "metadata": {
  "kernelspec": {
   "display_name": "R",
   "language": "R",
   "name": "ir"
  },
  "language_info": {
   "codemirror_mode": "r",
   "file_extension": ".r",
   "mimetype": "text/x-r-source",
   "name": "R",
   "pygments_lexer": "r",
   "version": "4.2.1"
  },
  "orig_nbformat": 4
 },
 "nbformat": 4,
 "nbformat_minor": 2
}
